{
 "cells": [
  {
   "cell_type": "markdown",
   "metadata": {},
   "source": [
    "This project examines mean reversion in U.S. equity returns and the predictive power of dividend yield for returns and dividend growth using a long-term dataset (1940-2023) on the S&P 500 and 3-month T-bill rates. "
   ]
  },
  {
   "cell_type": "code",
   "execution_count": 2,
   "metadata": {},
   "outputs": [],
   "source": [
    "import scipy as sp\n",
    "from scipy.stats import norm\n",
    "from matplotlib import pyplot as plt\n",
    "import numpy as np\n",
    "import pandas as pd\n",
    "from pandas.tseries.offsets import MonthEnd\n",
    "import statsmodels.formula.api as sm\n",
    "import datetime as dt\n",
    "import matplotlib.dates as mdates\n",
    "\n"
   ]
  },
  {
   "cell_type": "code",
   "execution_count": 3,
   "metadata": {},
   "outputs": [],
   "source": [
    "d=pd.read_excel(\"/Users/ouyangyingrun/Desktop/Shiller Long History June 2023.xlsx\", sheet_name='Dataset', engine='openpyxl')\n",
    "d['Date'] = pd.to_datetime(d['Date'])\n",
    "d.columns = ['Date','SPXLev','N3m','DivYld','RealDiv']\n",
    "\n",
    "d=d.sort_values('Date')\n",
    "d=d.set_index('Date')\n",
    "\n",
    "# Calculate the return index and 3-month T-Bill yield as a percentage\n",
    "d['retidx']=d.SPXLev/d.SPXLev.iloc[0]\n",
    "d['N3m']=d['N3m']/100\n",
    "\n",
    "# Define the horizons in terms of months (1 year = 12 months, etc.)\n",
    "k=[12,24,36,60,84,120]\n",
    "\n",
    "# Calculate log excess returns for each horizon\n",
    "for i in k:\n",
    " d['ret' + str(i) + 'm'] = d.retidx / d.retidx.shift(i) - 1 \n",
    " d['lret' + str(i) + 'm'] = np.log(d.retidx / d.retidx.shift(i))\n",
    "\n",
    " d['N3m' + str(i)] = d.N3m.rolling(i).apply(lambda x:np.sum(np.log(1 + x / 12)))\n",
    "\n",
    " d['lretex' + str(i) + 'm'] = d['lret' + str(i) + 'm'] - d['N3m' +str(i)] #realized log excess return\n",
    "\n",
    " d['lagdp' + str(i)] = d.DivYld.shift(i) #Lagging Dividend Yield over Horizon i\n",
    " d['rdivg' + str(i)] = np.log(d.RealDiv / d.RealDiv.shift(i)) #log real growth rate\n",
    "\n",
    "d = d.dropna(axis=0, subset=[\"ret120m\"])\n",
    "\n",
    "pst_war = 1\n",
    "if pst_war == 1:\n",
    " d = d.loc[d.index.year>1947,:]"
   ]
  },
  {
   "cell_type": "code",
   "execution_count": 5,
   "metadata": {},
   "outputs": [
    {
     "name": "stdout",
     "output_type": "stream",
     "text": [
      "Variance Ratio Test Results:\n",
      "Horizon: 1 years, Variance Ratio: 1.0000\n",
      "Horizon: 2 years, Variance Ratio: 0.9771\n",
      "Horizon: 3 years, Variance Ratio: 0.9132\n",
      "Horizon: 5 years, Variance Ratio: 0.9498\n",
      "Horizon: 7 years, Variance Ratio: 0.9741\n",
      "Horizon: 10 years, Variance Ratio: 1.1471\n"
     ]
    }
   ],
   "source": [
    "# Calculate variance ratio for each horizon\n",
    "results = {}\n",
    "for i in k:\n",
    "    # Calculate the variance of log excess returns for 1-year (12-month) and the current horizon\n",
    "    var_1y = d['lretex12m'].var()\n",
    "    var_i = d[f'lretex{i}m'].var()\n",
    "    \n",
    "    # Compute variance ratio\n",
    "    VR_i = var_i / (i / 12 * var_1y)\n",
    "    results[i] = VR_i\n",
    "\n",
    "# Print results\n",
    "print(\"Variance Ratio Test Results:\")\n",
    "for i, VR in results.items():\n",
    "    print(f\"Horizon: {i // 12} years, Variance Ratio: {VR:.4f}\")"
   ]
  },
  {
   "cell_type": "markdown",
   "metadata": {},
   "source": [
    "-\tHorizon: 1 Year, VR = 1.0000: A VR close to 1 suggest that returns are consistent with a random walk, or we say returns have zero autocorrelations.\n",
    "-\tHorizon: 2 Years, VR = 0.9771, Horizon: 3 Years, VR = 0.9132, Horizon: 5 Years, VR = 0.9498 and Horizon: 7 Years, VR = 0.9741: A VR less than 1 suggests returns have negative auto-correlation and exhibit mean reversion, prices tend to return to a historical mean over time. \n",
    "-\tHorizon: 10 Years, VR = 1.1471: A VR greater than 1 suggest positive serial correlation, indicates a potential trend following behavior rather than mean reversion. \n"
   ]
  },
  {
   "cell_type": "code",
   "execution_count": 6,
   "metadata": {},
   "outputs": [
    {
     "name": "stdout",
     "output_type": "stream",
     "text": [
      "Horizon: 1 years, Variance Ratio: 1.0000, Test Statistic Z_q: nan, Reject Null Hypothesis: False\n",
      "Horizon: 2 years, Variance Ratio: 0.9771, Test Statistic Z_q: -0.6801, Reject Null Hypothesis: False\n",
      "Horizon: 3 years, Variance Ratio: 0.9132, Test Statistic Z_q: -2.2325, Reject Null Hypothesis: False\n",
      "Horizon: 5 years, Variance Ratio: 0.9498, Test Statistic Z_q: -1.1786, Reject Null Hypothesis: False\n",
      "Horizon: 7 years, Variance Ratio: 0.9741, Test Statistic Z_q: -0.5875, Reject Null Hypothesis: False\n",
      "Horizon: 10 years, Variance Ratio: 1.1471, Test Statistic Z_q: 3.2562, Reject Null Hypothesis: True\n"
     ]
    },
    {
     "name": "stderr",
     "output_type": "stream",
     "text": [
      "/var/folders/13/gb1xxdtj681bc6s351fs44n40000gn/T/ipykernel_98624/3175367419.py:20: RuntimeWarning: invalid value encountered in scalar divide\n",
      "  Z_i = (np.sqrt(T * i) * J_r_i) / np.sqrt(2 * (i - 1))\n"
     ]
    }
   ],
   "source": [
    "# Define the results from Problem 1\n",
    "variance_ratios = {\n",
    "    1: 1.0000,\n",
    "    2: 0.9771,\n",
    "    3: 0.9132,\n",
    "    5: 0.9498,\n",
    "    7: 0.9741,\n",
    "    10: 1.1471\n",
    "}\n",
    "\n",
    "# Define the parameters\n",
    "T = len(d)  # Length of the data after filtering (post-1947)\n",
    "significance_level = 0.02\n",
    "critical_value = 2.326  # 2% significance level for two-tailed test\n",
    "\n",
    "# Calculate the test statistics and determine if we reject the null hypothesis\n",
    "for k, VR_i in variance_ratios.items():\n",
    "    i = k\n",
    "    J_r_i = VR_i - 1\n",
    "    Z_i = (np.sqrt(T * i) * J_r_i) / np.sqrt(2 * (i - 1))\n",
    "    \n",
    "    # Determine if we reject the null hypothesis\n",
    "    reject_null = abs(Z_i) > critical_value\n",
    "    \n",
    "    # Display results\n",
    "    print(f\"Horizon: {i} years, Variance Ratio: {VR_i:.4f}, Test Statistic Z_q: {Z_i:.4f}, Reject Null Hypothesis: {reject_null}\")"
   ]
  },
  {
   "cell_type": "markdown",
   "metadata": {},
   "source": [
    "For Horizon 1, 2, 3, 5, 7, Reject Null Hypothesis is False, indicating the hypothesis that log excess returns are serially uncorrelated and homoscedastic cannot be rejected at 2% significance level.\n",
    "For Horizon 10, Reject Null Hypothesis is True, therefore the result is statistically significant and indicating evidence against the random walk hypothesis.\n"
   ]
  },
  {
   "cell_type": "code",
   "execution_count": 8,
   "metadata": {},
   "outputs": [
    {
     "name": "stdout",
     "output_type": "stream",
     "text": [
      "Return Predictability Regression Results:\n",
      "Horizon: 1 years, Intercept: -0.0280, Beta: 3.1124, R2: 0.0677, t-stat: 6.0459\n",
      "Horizon: 2 years, Intercept: -0.0125, Beta: 2.5962, R2: 0.0975, t-stat: 6.6803\n",
      "Horizon: 3 years, Intercept: -0.0047, Beta: 2.3116, R2: 0.1240, t-stat: 7.6813\n",
      "Horizon: 5 years, Intercept: -0.0075, Beta: 2.3060, R2: 0.1948, t-stat: 11.4600\n",
      "Horizon: 7 years, Intercept: -0.0051, Beta: 2.1752, R2: 0.2420, t-stat: 13.5588\n",
      "Horizon: 10 years, Intercept: -0.0030, Beta: 2.0084, R2: 0.3070, t-stat: 17.0161\n",
      "\n",
      "Dividend Growth Predictability Regression Results:\n",
      "Horizon: 1 years, Intercept: 0.0328, Beta: -0.2986, R2: 0.0044, t-stat: -1.0337\n",
      "Horizon: 2 years, Intercept: 0.0605, Beta: -0.3883, R2: 0.0024, t-stat: -0.7913\n",
      "Horizon: 3 years, Intercept: 0.0830, Beta: -0.2771, R2: 0.0007, t-stat: -0.4747\n",
      "Horizon: 5 years, Intercept: 0.1423, Beta: -0.6191, R2: 0.0023, t-stat: -1.0138\n",
      "Horizon: 7 years, Intercept: 0.1879, Beta: -0.6100, R2: 0.0018, t-stat: -0.9220\n",
      "Horizon: 10 years, Intercept: 0.2548, Beta: -1.0127, R2: 0.0046, t-stat: -1.7226\n"
     ]
    }
   ],
   "source": [
    "# Define horizons in terms of months\n",
    "k = [12, 24, 36, 60, 84, 120]\n",
    "\n",
    "# Loop through each horizon and print full regression summary\n",
    "for i in k:\n",
    "    #print(f\"\\nReturn Predictability Regression for {i//12} Year Horizon\")\n",
    "    \n",
    "    # Define dependent and independent variables for each horizon:\n",
    "    # Excess return predictability: y = lretex, x = lagdp\n",
    "    y_return = d[f'lretex{i}m'].dropna()/(i//12)  # Log excess return series\n",
    "    x_return = d[f'lagdp{i}'].loc[y_return.index]  # Lagged dividend yield\n",
    "\n",
    "    # Run the regression for return predictability\n",
    "    X_return = sm.add_constant(x_return)\n",
    "    model_return = sm.OLS(y_return, X_return).fit(cov_type='HAC', cov_kwds={'maxlags': 1})\n",
    "    #print(model_return.summary())  # Display full regression summary\n",
    "    results_return_predictability[i] = {\n",
    "        'Intercept': model_return.params['const'],\n",
    "        'Beta': model_return.params[f'lagdp{i}'],\n",
    "        'R2': model_return.rsquared,\n",
    "        't-stat': model_return.tvalues[f'lagdp{i}']\n",
    "    }\n",
    "\n",
    "    #print(f\"\\nDividend Growth Predictability Regression for {i//12} Year Horizon\")\n",
    "    \n",
    "    # Dividend growth predictability: y = rdivg, x = lagdp\n",
    "    y_div_growth = d[f'rdivg{i}'].dropna()  # Log real dividend growth rate\n",
    "    x_div_growth = d[f'lagdp{i}'].loc[y_div_growth.index]  # Lagged dividend yield\n",
    "\n",
    "    # Run the regression for dividend growth predictability\n",
    "    X_div_growth = sm.add_constant(x_div_growth)\n",
    "    model_div_growth = sm.OLS(y_div_growth, X_div_growth).fit(cov_type='HAC', cov_kwds={'maxlags': 1})\n",
    "    results_dividend_growth_predictability[i] = {\n",
    "        'Intercept': model_div_growth.params['const'],\n",
    "        'Beta': model_div_growth.params[f'lagdp{i}'],\n",
    "        'R2': model_div_growth.rsquared,\n",
    "        't-stat': model_div_growth.tvalues[f'lagdp{i}']\n",
    "    }\n",
    "    #print(model_div_growth.summary())  # Display full regression summary\n",
    "\n",
    "# Display the results\n",
    "print(\"Return Predictability Regression Results:\")\n",
    "for i, res in results_return_predictability.items():\n",
    "    print(f\"Horizon: {i//12} years, Intercept: {res['Intercept']:.4f}, Beta: {res['Beta']:.4f}, R2: {res['R2']:.4f}, t-stat: {res['t-stat']:.4f}\")\n",
    "\n",
    "print(\"\\nDividend Growth Predictability Regression Results:\")\n",
    "for i, res in results_dividend_growth_predictability.items():\n",
    "    print(f\"Horizon: {i//12} years, Intercept: {res['Intercept']:.4f}, Beta: {res['Beta']:.4f}, R2: {res['R2']:.4f}, t-stat: {res['t-stat']:.4f}\")"
   ]
  },
  {
   "cell_type": "markdown",
   "metadata": {},
   "source": [
    "Return Predictability Regression Results Interpretation\n",
    "-\tPositive betas (e.g., 3.1124 for 1-year, 2.5962 for 2-year, etc.) suggest that a higher dividend-price ratio tends to predict higher future returns. This is consistent with the theory that a high dividend yield indicates undervaluation, which may lead to higher returns.\n",
    "-\tR-squared increases with the horizon length (from 6.77% for 1 year to 30.7% for 10 years). This suggests that the predictive power of the dividend yield for returns strengthens over longer horizons.\n",
    "-\tT-statistics are higher than 2 in absolute value indicating the coefficients are statistically significant. \n",
    "\n",
    "Dividend Growth Predictability Regression Results Interpretation\n",
    "-\tThe beta values are negative across all horizons (e.g., -0.2986 for 1-year, -1.0127 for 10-year), indicating an inverse relationship between the dividend yield and future dividend growth. This means that higher dividend yields are associated with lower subsequent dividend growth.\n",
    "-\tThe R-squared values are very low (all below 1%), suggesting that the dividend-price ratio does not meaningfully explain variations in future dividend growth.\n",
    "-\tT-statistics for beta are mostly small and insignificant (below 2 in absolute value), indicating that the beta coefficients are not statistically different from zero.\n",
    "\n",
    "In lecture we discussed high prices today must reflect either lower future returns or higher dividend growth or some combination. From two regression outcomes, we can say future returns and price (dividend to price ratio) shows a stronger relationship. \n",
    "\n"
   ]
  }
 ],
 "metadata": {
  "kernelspec": {
   "display_name": "Python 3",
   "language": "python",
   "name": "python3"
  },
  "language_info": {
   "codemirror_mode": {
    "name": "ipython",
    "version": 3
   },
   "file_extension": ".py",
   "mimetype": "text/x-python",
   "name": "python",
   "nbconvert_exporter": "python",
   "pygments_lexer": "ipython3",
   "version": "3.11.2"
  }
 },
 "nbformat": 4,
 "nbformat_minor": 2
}
